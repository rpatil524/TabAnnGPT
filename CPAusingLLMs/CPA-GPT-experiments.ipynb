{
 "cells": [
  {
   "cell_type": "code",
   "execution_count": null,
   "id": "307f1685",
   "metadata": {},
   "outputs": [],
   "source": [
    "import os\n",
    "from dotenv import dotenv_values\n",
    "from langchain.chat_models import ChatOpenAI\n",
    "from langchain.schema import SystemMessage, HumanMessage, AIMessage\n",
    "from utils import map_cpa_to_labels, calculate_f1_scores, save_pickle_file, load_cpa_dataset_column, load_pickle_file, load_cpa_dataset, decimal, map_answers_column\n",
    "import tqdm\n",
    "import random\n",
    "from langchain.embeddings.openai import OpenAIEmbeddings\n",
    "from sklearn.metrics.pairwise import cosine_similarity\n",
    "import multiprocessing"
   ]
  },
  {
   "cell_type": "code",
   "execution_count": null,
   "id": "37fe0620",
   "metadata": {
    "scrolled": true
   },
   "outputs": [],
   "source": [
    "# Load env file with API KEY using full path\n",
    "config = dotenv_values(\"/full/path/to/file/key.env\")\n",
    "os.environ['OPENAI_API_KEY'] = config[\"OPENAI_API_KEY\"]\n",
    "OPENAI_API_KEY = config[\"OPENAI_API_KEY\"]"
   ]
  },
  {
   "cell_type": "code",
   "execution_count": null,
   "id": "a483d6b9",
   "metadata": {},
   "outputs": [],
   "source": [
    "datasets = [\"sotabv2\", \"t2dv2-webtables\"]\n",
    "models = [\"gpt-3.5-turbo-0125\", \"gpt-4-0125-preview\"]"
   ]
  },
  {
   "cell_type": "markdown",
   "id": "66d78f5f",
   "metadata": {},
   "source": [
    "## Select most similar demonstrations for each test example"
   ]
  },
  {
   "cell_type": "code",
   "execution_count": null,
   "id": "f60df424",
   "metadata": {},
   "outputs": [],
   "source": [
    "# Load embedding model\n",
    "model_name = 'text-embedding-ada-002'\n",
    "embed = OpenAIEmbeddings(model=model_name, openai_api_key=OPENAI_API_KEY)\n",
    "\n",
    "def top_10_indices(index):\n",
    "    cos = cosine_similarity([test_embeddings[index]], train_embeddings)\n",
    "    \n",
    "    # Arrange cosine similarity in dictionary\n",
    "    cos_dict = {}\n",
    "    for j, c in enumerate(cos[0]):\n",
    "        cos_dict[j] = c\n",
    "    \n",
    "    # Sort dictionary\n",
    "    sorted_cos_dict = {k: v for k, v in sorted(cos_dict.items(), key=lambda item: item[1])}\n",
    "    \n",
    "    # Retrieve the 10 most similar indices for each test example\n",
    "    return list(sorted_cos_dict.keys())[-10:]"
   ]
  },
  {
   "cell_type": "code",
   "execution_count": null,
   "id": "94991ad1",
   "metadata": {},
   "outputs": [],
   "source": [
    "for dataset in datasets:\n",
    "    print(dataset)\n",
    "    # Load dataset\n",
    "    examples, labels, test_table_type_labels, train_examples, train_example_labels, train_table_type_labels, labels_to_text, text_to_label, labels_joined, train, test = load_cpa_dataset(dataset,\"-markdown-20\",False)\n",
    "\n",
    "    test_embeddings = embed.embed_documents(examples)\n",
    "    train_embeddings = embed.embed_documents(train_examples)\n",
    "    \n",
    "    # Retrieve top 10 indices for each test label\n",
    "    pool = multiprocessing.Pool(processes=4)\n",
    "    examples_demonstrations = list(tqdm.tqdm(pool.imap(top_10_indices, range(len(test))), total=len(test)))\n",
    "    pool.close()\n",
    "    pool.join()\n",
    "    # Save most similar training examples to test examples\n",
    "    save_pickle_file(f\"embeddings/cpa-examples_demonstrations_{dataset}-20.pkl\", examples_demonstrations)"
   ]
  },
  {
   "cell_type": "markdown",
   "id": "08bcb03a",
   "metadata": {},
   "source": [
    "## Table-prompts experiments"
   ]
  },
  {
   "cell_type": "code",
   "execution_count": null,
   "id": "11faab1e",
   "metadata": {},
   "outputs": [],
   "source": [
    "tasks = {\n",
    "    \"\": \"Your task is to classify the relationship between two columns of a given table with one of the following relationships that are separated with comma:\",\n",
    "    \"-cpa\": \"Your task is to perform column property annotation (CPA), meaning that your task is to annotate the relationship between the leftmost column (name column) and a second column of a given table with only one of the following relationships that are separated with comma:\",\n",
    "}"
   ]
  },
  {
   "cell_type": "code",
   "execution_count": null,
   "id": "32297e48",
   "metadata": {},
   "outputs": [],
   "source": [
    "instructions = {\n",
    "    \"\": \"Your instructions are: 1. Look at the input given to you and make a table out of it. 2. Look at the cell values in detail. 3. For each column, select a relationship that best represents the relationship between that column and the first column of the table. 4. Answer with only one selected relationship for each column with the format Column 2: relationship. Don't return any relationship for the first column! 5. Answer only with labels from the provided label set!\",\n",
    "    \"-less-instructions\": \"Your instructions are: 1. For each column, select a relationship from the list that best represents the relationship between that column and the first column of the table. 2. Answer with only one selected relationship for each column with the format Column 2: relationship. Don't return any relationship for the first column! 3. Answer only with labels from the provided label set!\",\n",
    "}"
   ]
  },
  {
   "cell_type": "code",
   "execution_count": null,
   "id": "0de8f61a",
   "metadata": {},
   "outputs": [],
   "source": [
    "last_message = {\n",
    "    \"\": \"Classify these table columns:\",\n",
    "    \"-annotate\": \"Please annotate the columns of the following table:\",\n",
    "    \"-determine\": \"Please determine the relationships for columns of this table:\",\n",
    "    \"-relationships\": \"Please classify the relationships between the first column and the other columns of this table:\",\n",
    "}"
   ]
  },
  {
   "cell_type": "code",
   "execution_count": null,
   "id": "036c2d07",
   "metadata": {
    "scrolled": true
   },
   "outputs": [],
   "source": [
    "# Zero-shot\n",
    "for dataset in datasets:\n",
    "    print(dataset)\n",
    "    # Load dataset\n",
    "    examples, labels, test_table_type_labels, train_examples, train_example_labels, train_table_type_labels, labels_to_text, text_to_label, labels_joined, train, test = load_cpa_dataset(dataset,\"-markdown-20\",False)\n",
    "\n",
    "    for model_name in models[:2]:\n",
    "        print(model_name)\n",
    "        chat = ChatOpenAI(openai_api_key=OPENAI_API_KEY, temperature=0, model=model_name)\n",
    "        \n",
    "        for nr in [0]:\n",
    "            print(nr)\n",
    "            for task in tasks:\n",
    "                for instruction in instructions:\n",
    "                    for mess in last_message:\n",
    "                        print(f\"cpa-chat-table-{nr}-shot{task}{instruction}{mess}\")\n",
    "                        preds = []\n",
    "                        \n",
    "                        #For each combination run prediction\n",
    "                        for example in tqdm.tqdm(examples, total=len(examples)):\n",
    "                            messages = []\n",
    "                            messages.append(SystemMessage(content=f\"{tasks[task]} {labels_joined}.\"))\n",
    "                            messages.append(SystemMessage(content=instructions[instruction]))\n",
    "\n",
    "                            for i in range(0,nr):\n",
    "                                index = random.randint(0, len(train_examples)-1)\n",
    "                                messages.append(HumanMessage(content=f\"{last_message[mess]}\\n{train_examples[index]}\"))\n",
    "                                messages.append(AIMessage(content=f\"{train_example_labels[index]}\"))\n",
    "\n",
    "                            messages.append(HumanMessage(content=f\"{last_message[mess]}\\n{example}\"))\n",
    "                            \n",
    "                            res = chat(messages)\n",
    "                            preds.append(res.content)\n",
    "                        save_pickle_file(f\"predictions/{dataset}/{model_name}/cpa-chat-table-{nr}-shot-markdown{task}{instruction}{mess}.pkl\", preds)"
   ]
  },
  {
   "cell_type": "code",
   "execution_count": null,
   "id": "7147705c",
   "metadata": {
    "scrolled": true
   },
   "outputs": [],
   "source": [
    "# Few-shot\n",
    "for dataset in datasets:\n",
    "    print(dataset)\n",
    "    # Load dataset\n",
    "    examples, labels, test_table_type_labels, train_examples, train_example_labels, train_table_type_labels, labels_to_text, text_to_label, labels_joined, train, test = load_cpa_dataset(dataset,\"-markdown-20\",False)\n",
    "    examples_demonstrations = load_pickle_file(f\"embeddings/cpa-examples_demonstrations_{dataset}-20.pkl\")\n",
    "\n",
    "    for model_name in models[:2]:\n",
    "        print(model_name)\n",
    "        chat = ChatOpenAI(openai_api_key=OPENAI_API_KEY, temperature=0, model=model_name)\n",
    "        \n",
    "        # Few-shot: random\n",
    "        for nr in [1, 3, 5]:\n",
    "            print(nr)\n",
    "            preds = []\n",
    "\n",
    "            for example in tqdm.tqdm(examples, total=len(examples)):\n",
    "                messages = []\n",
    "                \n",
    "                # Less instructions\n",
    "                messages.append(SystemMessage(content=f\"Your task is to classify the relationship between two columns of a given table with one of the following relationships that are separated with comma: {labels_joined}.\"))\n",
    "                messages.append(SystemMessage(content=\"Your instructions are: 1. For each column, select a relationship from the list that best represents the relationship between that column and the first column of the table. 2. Answer with only one selected relationship for each column with the format Column 2: relationship. Don't return any relationship for the first column! 3. Answer only with labels from the provided label set!\"))\n",
    "                \n",
    "\n",
    "                for i in range(0,nr):\n",
    "                    index = random.randint(0, len(train_examples)-1)\n",
    "                    messages.append(HumanMessage(content=f\"Please classify the relationships between the first column and the other columns of this table:\\n{train_examples[index]}\"))\n",
    "                    messages.append(AIMessage(content=f\"{train_example_labels[index]}\"))\n",
    "                messages.append(HumanMessage(content=f\"Please classify the relationships between the first column and the other columns of this table:\\n{example}\"))\n",
    "   \n",
    "                res = chat(messages)\n",
    "                preds.append(res.content)\n",
    "            save_pickle_file(f\"predictions/{dataset}/{model_name}/cpa-chat-table-{nr}-shot-markdown-20-less-instructions-relationships.pkl\", preds)\n",
    "\n",
    "        # Few-shot: similar\n",
    "        for nr in [1, 3, 5]:\n",
    "            print(nr)\n",
    "            preds = []\n",
    "\n",
    "            for i, example in tqdm.tqdm(enumerate(examples), total=len(examples)):\n",
    "                messages = []\n",
    "                messages.append(SystemMessage(content=f\"Your task is to classify the relationship between two columns of a given table with one of the following relationships that are separated with comma: {labels_joined}.\"))\n",
    "                messages.append(SystemMessage(content=\"Your instructions are: 1. For each column, select a relationship from the list that best represents the relationship between that column and the first column of the table. 2. Answer with only one selected relationship for each column with the format Column 2: relationship. Don't return any relationship for the first column! 3. Answer only with labels from the provided label set!\"))\n",
    "                \n",
    "                for index in examples_demonstrations[i][-nr:]:\n",
    "                    messages.append(HumanMessage(content=f\"Please classify the relationships between the first column and the other columns of this table:\\n{train_examples[index]}\"))\n",
    "                    messages.append(AIMessage(content=f\"{train_example_labels[index]}\"))\n",
    "\n",
    "                messages.append(HumanMessage(content=f\"Please classify the relationships between the first column and the other columns of this table:\\n{example}\"))\n",
    "                res = chat(messages)\n",
    "                preds.append(res.content)\n",
    "            save_pickle_file(f\"predictions/{dataset}/{model_name}/cpa-chat-table-{nr}-similar-shot-markdown-20-less-instructions-relationships.pkl\", preds)\n"
   ]
  },
  {
   "cell_type": "markdown",
   "id": "1f8f0a4d",
   "metadata": {},
   "source": [
    "## Evaluation"
   ]
  },
  {
   "cell_type": "code",
   "execution_count": null,
   "id": "ac3810c4",
   "metadata": {},
   "outputs": [],
   "source": [
    "# Table prompt\n",
    "for nr in [0, 1, 3, 5, \"3-similar\",\"5-similar\"]:\n",
    "    preds = load_pickle_file(f\"predictions/{dataset}/{model_name}/cpa-chat-table-{nr}-shot.pkl\")\n",
    "    predictions, num = map_cpa_to_labels(preds, test, text_to_label)\n",
    "    types = list(set(labels))\n",
    "    types = types + [\"-\"] if '-' in predictions else types\n",
    "    evaluation, per_class_eval = calculate_f1_scores(labels, predictions, len(types), types)\n",
    "    print(f\"{decimal(evaluation['Precision'])}\\t{decimal(evaluation['Recall'])}\\t{decimal(evaluation['Macro-F1'])}\\t{decimal(evaluation['Micro-F1'])}\\t{num}\")"
   ]
  },
  {
   "cell_type": "markdown",
   "id": "b07d8006",
   "metadata": {},
   "source": [
    "## Error Analysis"
   ]
  },
  {
   "cell_type": "code",
   "execution_count": null,
   "id": "960b5c02",
   "metadata": {
    "scrolled": true
   },
   "outputs": [],
   "source": [
    "errors = 0\n",
    "errors_per_class = {}\n",
    "for i in range(len(predictions)):\n",
    "    if predictions[i] == labels[i]:\n",
    "        errors += 1\n",
    "        print(table_indices[i])\n",
    "        print(test[table_indices[i]][1])\n",
    "        print(test[table_indices[i]][2])\n",
    "        print(f\"Predicted as {predictions[i]} when it was {labels[i]}\")\n",
    "        if labels[i] not in errors_per_class:\n",
    "            errors_per_class[labels[i]] = 0\n",
    "        errors_per_class[labels[i]] +=1\n",
    "errors"
   ]
  },
  {
   "cell_type": "code",
   "execution_count": null,
   "id": "87e37ba8",
   "metadata": {},
   "outputs": [],
   "source": []
  }
 ],
 "metadata": {
  "kernelspec": {
   "display_name": "Python 3 (ipykernel)",
   "language": "python",
   "name": "python3"
  },
  "language_info": {
   "codemirror_mode": {
    "name": "ipython",
    "version": 3
   },
   "file_extension": ".py",
   "mimetype": "text/x-python",
   "name": "python",
   "nbconvert_exporter": "python",
   "pygments_lexer": "ipython3",
   "version": "3.10.9"
  }
 },
 "nbformat": 4,
 "nbformat_minor": 5
}
