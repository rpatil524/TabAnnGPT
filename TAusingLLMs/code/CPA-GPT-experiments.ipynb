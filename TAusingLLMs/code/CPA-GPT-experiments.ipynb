{
 "cells": [
  {
   "cell_type": "code",
   "execution_count": 1,
   "id": "307f1685",
   "metadata": {},
   "outputs": [],
   "source": [
    "import os\n",
    "from dotenv import dotenv_values\n",
    "from langchain.chat_models import ChatOpenAI\n",
    "from langchain.schema import SystemMessage, HumanMessage, AIMessage\n",
    "from utils import map_cpa_to_labels, calculate_f1_scores, save_pickle_file, load_cpa_dataset_column, load_pickle_file, load_cpa_dataset, decimal, map_answers_column\n",
    "import tqdm\n",
    "import random"
   ]
  },
  {
   "cell_type": "code",
   "execution_count": 3,
   "id": "37fe0620",
   "metadata": {
    "scrolled": true
   },
   "outputs": [],
   "source": [
    "# Load env file with API KEY using full path\n",
    "config = dotenv_values(\"/full/path/to/file/key.env\")\n",
    "os.environ['OPENAI_API_KEY'] = config[\"OPENAI_API_KEY\"]\n",
    "OPENAI_API_KEY = config[\"OPENAI_API_KEY\"]"
   ]
  },
  {
   "cell_type": "code",
   "execution_count": 4,
   "id": "a483d6b9",
   "metadata": {},
   "outputs": [],
   "source": [
    "datasets = [\"sotabv2\", \"t2dv2-webtables\"]\n",
    "models = [\"gpt-3.5-turbo-0301\", \"gpt-4-0613\"]"
   ]
  },
  {
   "cell_type": "markdown",
   "id": "da7a158c",
   "metadata": {},
   "source": [
    "## Column-prompts experiments"
   ]
  },
  {
   "cell_type": "code",
   "execution_count": null,
   "id": "3a81735e",
   "metadata": {
    "scrolled": true
   },
   "outputs": [],
   "source": [
    "for dataset in datasets:\n",
    "    print(dataset)\n",
    "    # Load dataset\n",
    "    examples, labels, train_examples, train_labels, labels_to_text, text_to_label, labels_joined, train, test = load_cpa_dataset_column(dataset,\"\")\n",
    "    examples_demonstrations = load_pickle_file(f\"embeddings/cpa-examples_demonstrations_{dataset}-column.pkl\")\n",
    "    \n",
    "    for model_name in models:\n",
    "        print(model_name)\n",
    "        chat = ChatOpenAI(openai_api_key=OPENAI_API_KEY, temperature=0, model=model_name)\n",
    "\n",
    "        #Zero-shot and Few-shot random demonstrations:\n",
    "        for nr in [0, 1, 5]:\n",
    "            preds = []\n",
    "\n",
    "            for example in tqdm.tqdm(examples, total=len(examples)):\n",
    "                messages = []\n",
    "                messages.append(SystemMessage(content=f\"You are a world-class data engineer and your task is to classify the relationship between two columns with one of the following labels that are separated with comma: {labels_joined}.\"))\n",
    "                messages.append(SystemMessage(content=\"Your instructions are: 1. Look at the two columns and the classes given to you 2. Look at their values in detail. 3. Select a class that best represents the relationship between the two columns. 4. Answer with only one label!\"))#\n",
    "\n",
    "                for i in range(0,nr):\n",
    "                    index = random.randint(0, len(train_examples)-1)\n",
    "                    messages.append(HumanMessage(content=f\"Column1: {train_examples[index][0]}\\nColumn2: {train_examples[index][1]}\"))\n",
    "                    messages.append(AIMessage(content=f\"{train_labels[index]}\"))\n",
    "\n",
    "                messages.append(HumanMessage(content=f\"Column1: {example[0]}\\nColumn2: {example[1]}\"))\n",
    "                res = chat(messages)\n",
    "                preds.append(res.content)\n",
    "            save_pickle_file(f\"predictions/{dataset}/{model_name}/cpa-chat-column-{nr}-shot.pkl\", preds)\n",
    "\n",
    "        # Few-shot: similar\n",
    "        for nr in [1, 5]:\n",
    "            preds = []\n",
    "\n",
    "            for i, example in tqdm.tqdm(enumerate(examples), total=len(examples)):\n",
    "                messages = []\n",
    "                messages.append(SystemMessage(content=f\"You are a world-class data engineer and your task is to classify the relationship between two columns with one of the following labels that are separated with comma: {labels_joined}.\"))\n",
    "                messages.append(SystemMessage(content=\"Your instructions are: 1. Look at the two columns and the classes given to you 2. Look at their values in detail. 3. Select a class that best represents the relationship between the two columns. 4. Answer with only one class!\"))#\n",
    "\n",
    "                for index in examples_demonstrations[i][-nr:]:\n",
    "                    messages.append(HumanMessage(content=f\"Column1: {train_examples[index][0]}\\nColumn2: {train_examples[index][1]}\"))\n",
    "                    messages.append(AIMessage(content=f\"{train_labels[index]}\"))\n",
    "\n",
    "                messages.append(HumanMessage(content=f\"Column1: {example[0]}\\nColumn2: {example[1]}\"))\n",
    "                res = chat(messages)\n",
    "                preds.append(res.content)\n",
    "            save_pickle_file(f\"predictions/{dataset}/{model_name}/chat-column-{nr}-similar-shot.pkl\", preds)"
   ]
  },
  {
   "cell_type": "markdown",
   "id": "08bcb03a",
   "metadata": {},
   "source": [
    "## Table-prompts experiments"
   ]
  },
  {
   "cell_type": "code",
   "execution_count": null,
   "id": "7147705c",
   "metadata": {
    "scrolled": true
   },
   "outputs": [],
   "source": [
    "for dataset in datasets:\n",
    "    print(dataset)\n",
    "    # Load dataset\n",
    "    examples, labels, test_table_type_labels, train_examples, train_example_labels, train_table_type_labels, labels_to_text, text_to_label, labels_joined, train, test = load_cpa_dataset(dataset,\"\",False)\n",
    "    examples_demonstrations = load_pickle_file(f\"embeddings/cpa-examples_demonstrations_{dataset}.pkl\")\n",
    "    cc_examples_demonstratons = load_pickle_file(f\"embeddings/cpa-cc_examples_demonstrations_{dataset}.pkl\")\n",
    "\n",
    "\n",
    "    for model_name in models:\n",
    "        print(model_name)\n",
    "        chat = ChatOpenAI(openai_api_key=OPENAI_API_KEY, temperature=0, model=model_name)\n",
    "        \n",
    "        for nr in [0, 1, 5]:\n",
    "            print(nr)\n",
    "            try:\n",
    "                preds = []\n",
    "\n",
    "                for example in tqdm.tqdm(examples, total=len(examples)):\n",
    "                    messages = []\n",
    "                    messages.append(SystemMessage(content=f\"Your task is to classify the relationship between two columns of a given table with one of the following relationships that are separated with comma: {labels_joined}.\"))\n",
    "                    messages.append(SystemMessage(content=\"Your instructions are: 1. Look at the input given to you and make a table out of it. 2. Look at the cell values in detail. 3. For each column, select a relationship that best represents the relationship between that column and the first column of the table. 4. Answer with only one selected relationship for each column with the format Column2: relationship. Don't return any relationship for the first column! 5. Answer only with labels from the provided label set!\"))\n",
    "\n",
    "                    for i in range(0,nr):\n",
    "                        index = random.randint(0, len(train_examples)-1)\n",
    "                        messages.append(HumanMessage(content=f\"Classify these table columns: {train_examples[index]}\"))\n",
    "                        messages.append(AIMessage(content=f\"{train_example_labels[index]}\"))\n",
    "\n",
    "                    messages.append(HumanMessage(content=f\"Classify these table columns: {example}\"))\n",
    "                    res = chat(messages)\n",
    "                    preds.append(res.content)\n",
    "                save_pickle_file(f\"predictions/{dataset}/{model_name}/cpa-chat-table-{nr}-shot.pkl\", preds)\n",
    "            except Exception:\n",
    "                print(f\"Error in {nr}-shot\")\n",
    "\n",
    "        # Few-shot: similar\n",
    "        for nr in [1, 5]:\n",
    "            print(nr)\n",
    "            \n",
    "            try:\n",
    "                preds = []\n",
    "\n",
    "                for i, example in tqdm.tqdm(enumerate(examples), total=len(examples)):\n",
    "                    messages = []\n",
    "                    messages.append(SystemMessage(content=f\"Your task is to classify the relationship between two columns of a given table with one of the following relationships that are separated with comma: {labels_joined}.\"))\n",
    "                    messages.append(SystemMessage(content=\"Your instructions are: 1. Look at the input given to you and make a table out of it. 2. Look at the cell values in detail. 3. For each column, select a relationship that best represents the relationship between that column and the first column of the table. 4. Answer with only one selected relationship for each column with the format Column2: relationship. Don't return any relationship for the first column! 5. Answer only with labels from the provided label set!\"))\n",
    "\n",
    "                    for index in examples_demonstrations[i][-nr:]:\n",
    "                        messages.append(HumanMessage(content=f\"Classify these table columns: {train_examples[index]}\"))\n",
    "                        messages.append(AIMessage(content=f\"{train_example_labels[index]}\"))\n",
    "\n",
    "                    messages.append(HumanMessage(content=f\"Classify these table columns: {example}\"))\n",
    "                    res = chat(messages)\n",
    "                    preds.append(res.content)\n",
    "                save_pickle_file(f\"predictions/{dataset}/{model_name}/cpa-chat-table-{nr}-similar-shot.pkl\", preds)\n",
    "            except Exception:\n",
    "                print(f\"Error in {nr}-similar-shot\")\n",
    "\n",
    "\n",
    "        # Few-shot corner-case demonstrations\n",
    "        preds = []\n",
    "        for i, example in tqdm.tqdm(enumerate(examples), total=len(examples)):\n",
    "            try:\n",
    "                messages = []\n",
    "\n",
    "                #Task and instructions\n",
    "                messages.append(SystemMessage(content=f\"Your task is to classify the relationship between two columns of a given table with one of the following relationships that are separated with comma: {labels_joined}.\"))\n",
    "                messages.append(SystemMessage(content=\"Your instructions are: 1. Look at the input given to you and make a table out of it. 2. Look at the cell values in detail. 3. For each column, select a relationship that best represents the relationship between that column and the first column of the table. 4. Answer with only one selected relationship for each column with the format Column2: relationship. Don't return any relationship for the first column! 5. Answer only with labels from the provided label set!\"))\n",
    "\n",
    "                # Add the 5 most similar training examples\n",
    "                for index in cc_examples_demonstratons[i]:\n",
    "                    messages.append(HumanMessage(content=f\"Classify these table columns: {train_examples[index]}\"))\n",
    "                    messages.append(AIMessage(content=f\"{train_example_labels[index]}\"))\n",
    "\n",
    "                messages.append(HumanMessage(content=f\"Classify these table columns: {example}\"))\n",
    "                res = chat(messages)\n",
    "                preds.append(res.content)\n",
    "            except Exception:\n",
    "                    print(f\"Error in cc-method\")\n",
    "                \n",
    "        save_pickle_file(f\"predictions/{dataset}/{model_name}/cpa-chat-table-4-cc-shot.pkl\", preds)"
   ]
  },
  {
   "cell_type": "markdown",
   "id": "e7908808",
   "metadata": {},
   "source": [
    "## Two-step approach"
   ]
  },
  {
   "cell_type": "code",
   "execution_count": 179,
   "id": "f3029b29",
   "metadata": {},
   "outputs": [],
   "source": [
    "def get_clean_table_prediction(table_pred, domains):\n",
    "    cleaned_table_pred=\"-\"\n",
    "    for dom in domains:\n",
    "#     for dom in new_domains:\n",
    "        if dom in table_pred:\n",
    "            cleaned_table_pred = dom\n",
    "            break\n",
    "    return cleaned_table_pred"
   ]
  },
  {
   "cell_type": "code",
   "execution_count": 175,
   "id": "9798f849",
   "metadata": {},
   "outputs": [],
   "source": [
    "task_messages = {\n",
    "    \"t1\": f\"Your task is to classify a table into one of these domains: \",\n",
    "    \"t2\": f\"You are a world-class data engineer and your task is to classify a table into one of these domains: \",    \n",
    "}\n",
    "\n",
    "instruction_messages = {\n",
    "    \"i1\": \"Your instructions are: 1. Look at the input given to you and make a table out of it. 2. Look at the cell values in detail. 3. Decide the domain that best represents the table. 4. Answer with one domain.\",\n",
    "    \"i2\": \"Your instructions are: 1. Look at the input given to you and make a table out of it. 2. Look at the cell values in detail. 3. Decide the domain that best represents the table. 4. Answer with one domain. 5. If you are not sure, pick the most likely domain.\",\n",
    "    \"i3\": \"Your instructions are: 1. Look at the input given to you and make a table out of it. 2. Look at the cell values in detail. 3. Decide the domain that best represents the table. 4. Answer with one domain. 5. Answer only with the domains given to you!\",\n",
    "}"
   ]
  },
  {
   "cell_type": "code",
   "execution_count": null,
   "id": "3a88df24",
   "metadata": {
    "scrolled": true
   },
   "outputs": [],
   "source": [
    "for dataset in datasets:\n",
    "    # Load dataset\n",
    "    examples, labels, test_table_type_labels, train_examples, train_example_labels, train_table_type_labels, labels_to_text, text_to_label, labels_joined, train, test = load_cpa_dataset(dataset,\"\",False)    \n",
    "    # Load domain labels\n",
    "    domains = list(set(train_table_type_labels))\n",
    "    domains_list = \", \".join(domains)\n",
    "    labels_dict = {}\n",
    "    for dom in domains:\n",
    "        f = open(f\"../data/{dataset}-labels/{dataset}_cpa_{dom}_labels.txt\", 'r')\n",
    "        t = [line.split('\\n')[0] for line in f.readlines()]\n",
    "        labels_dict[dom] = t\n",
    "        \n",
    "    for model_name in models:\n",
    "        print(model_name)\n",
    "        chat = ChatOpenAI(openai_api_key=OPENAI_API_KEY, temperature=0, model=model_name)\n",
    "\n",
    "        #Few-shot and zero-shot random\n",
    "        for nr in [0, 1, 5]:\n",
    "            print(nr)\n",
    "            try:\n",
    "                table_preds = []\n",
    "                preds = []\n",
    "\n",
    "                for example in tqdm.tqdm(examples, total=len(examples)):\n",
    "                    #Step 1\n",
    "                    messages = []\n",
    "                    #Task and instructions\n",
    "                    messages.append(SystemMessage(content=task_messages[\"t2\"]+f\" {domains_list}.\"))\n",
    "                    messages.append(SystemMessage(content=instruction_messages[\"i2\"]))\n",
    "\n",
    "                    for i in range(0, nr):\n",
    "                        index = random.randint(0, len(train_examples)-1)\n",
    "                        messages.append(HumanMessage(content=f\"Classify this table: {train_examples[index]}\"))\n",
    "                        messages.append(AIMessage(content=f\"{train_table_type_labels[index]}\"))\n",
    "\n",
    "                    messages.append(HumanMessage(content=f\"Classify this table:\\n{example}\"))\n",
    "\n",
    "                    res = chat(messages)\n",
    "                    table_preds.append(res.content)\n",
    "\n",
    "                    clean_prediction = get_clean_table_prediction(res.content.strip(), domains)\n",
    "\n",
    "                    # Step 2\n",
    "                    messages = []\n",
    "\n",
    "                    #Show only a subset of labels related to the table type predicted\n",
    "                    if clean_prediction != \"-\":\n",
    "                        labels_dom = \", \".join([labels_to_text[l] for l in labels_dict[clean_prediction]])\n",
    "                    else:\n",
    "                        labels_dom = labels_joined\n",
    "\n",
    "                    #Show only a subset of labels related to the table type predicted\n",
    "                    messages.append(SystemMessage(content=f\"Your task is to classify the relationship between two columns of a given table with one of the following relationships that are separated with comma: {labels_dom}.\"))\n",
    "                    messages.append(SystemMessage(content=\"Your instructions are: 1. Look at the input given to you and make a table out of it. 2. Look at the cell values in detail. 3. For each column, select a relationship that best represents the relationship between that column and the first column of the table. 4. Answer with only one selected relationship for each column with the format Column2: relationship. Don't return any relationship for the first column! 5. Answer only with labels from the provided label set!\"))\n",
    "\n",
    "                    #Pick four random demonstrations from the predicted table type in step one\n",
    "                    for m in range(0,nr):\n",
    "                        if clean_prediction != \"-\" and clean_prediction in train_table_type_labels:\n",
    "                            index = random.choice([j for j, e in enumerate(train_table_type_labels) if e == clean_prediction])\n",
    "                        else:\n",
    "                            index = random.randint(0, len(train_examples)-1)\n",
    "                        messages.append(HumanMessage(content=f\"Classify these table columns: {train_examples[index]}\"))\n",
    "                        messages.append(AIMessage(content=f\"{train_example_labels[index]}\"))\n",
    "\n",
    "                    messages.append(HumanMessage(content=f\"Classify these table columns: {example}\"))\n",
    "                    res = chat(messages)\n",
    "                    preds.append(res.content)\n",
    "\n",
    "                save_pickle_file(f\"predictions/{dataset}/{model_name}/cpa-chat-two-step-{nr}-shot-step1.pkl\", table_preds)\n",
    "                save_pickle_file(f\"predictions/{dataset}/{model_name}/cpa-chat-two-step-{nr}-shot-step2.pkl\", preds)\n",
    "            except Exception:\n",
    "                print(f\"Error in {nr}-shot\")"
   ]
  },
  {
   "cell_type": "markdown",
   "id": "1f8f0a4d",
   "metadata": {},
   "source": [
    "## Evaluation"
   ]
  },
  {
   "cell_type": "code",
   "execution_count": null,
   "id": "75e8fb8b",
   "metadata": {},
   "outputs": [],
   "source": [
    "# Column prompt\n",
    "for nr in [0, 1, 5]:\n",
    "    preds = load_pickle_file(f\"predictions/{dataset}/{model_name}/cpa-chat-column-{nr}-shot.pkl\")\n",
    "    predictions, num = map_answers_column(preds, test, text_to_label)\n",
    "    types = list(set(labels))\n",
    "    types = types + [\"-\"] if '-' in predictions else types\n",
    "    evaluation, per_class_eval = calculate_f1_scores(labels, predictions, len(types), types)\n",
    "    print(f\"{decimal(evaluation['Precision'])}\\t{decimal(evaluation['Recall'])}\\t{decimal(evaluation['Macro-F1'])}\\t{decimal(evaluation['Micro-F1'])}\\t{num}\")"
   ]
  },
  {
   "cell_type": "code",
   "execution_count": null,
   "id": "ac3810c4",
   "metadata": {},
   "outputs": [],
   "source": [
    "# Table prompt\n",
    "for nr in [0, 1, 5,\"5-similar\", \"4-cc\"]:\n",
    "    preds = load_pickle_file(f\"predictions/{dataset}/{model_name}/cpa-chat-table-{nr}-shot.pkl\")\n",
    "    predictions, num = map_cpa_to_labels(preds, test, text_to_label)\n",
    "    types = list(set(labels))\n",
    "    types = types + [\"-\"] if '-' in predictions else types\n",
    "    evaluation, per_class_eval = calculate_f1_scores(labels, predictions, len(types), types)\n",
    "    print(f\"{decimal(evaluation['Precision'])}\\t{decimal(evaluation['Recall'])}\\t{decimal(evaluation['Macro-F1'])}\\t{decimal(evaluation['Micro-F1'])}\\t{num}\")"
   ]
  },
  {
   "cell_type": "markdown",
   "id": "b07d8006",
   "metadata": {},
   "source": [
    "## Error Analysis"
   ]
  },
  {
   "cell_type": "code",
   "execution_count": null,
   "id": "960b5c02",
   "metadata": {
    "scrolled": true
   },
   "outputs": [],
   "source": [
    "errors = 0\n",
    "errors_per_class = {}\n",
    "for i in range(len(predictions)):\n",
    "    if predictions[i] != labels[i]:\n",
    "        errors += 1\n",
    "        print(f\"Predicted as {predictions[i]} when it was {labels[i]}\")\n",
    "        if labels[i] not in errors_per_class:\n",
    "            errors_per_class[labels[i]] = 0\n",
    "        errors_per_class[labels[i]] +=1\n",
    "errors"
   ]
  }
 ],
 "metadata": {
  "kernelspec": {
   "display_name": "Python 3 (ipykernel)",
   "language": "python",
   "name": "python3"
  },
  "language_info": {
   "codemirror_mode": {
    "name": "ipython",
    "version": 3
   },
   "file_extension": ".py",
   "mimetype": "text/x-python",
   "name": "python",
   "nbconvert_exporter": "python",
   "pygments_lexer": "ipython3",
   "version": "3.10.9"
  }
 },
 "nbformat": 4,
 "nbformat_minor": 5
}
