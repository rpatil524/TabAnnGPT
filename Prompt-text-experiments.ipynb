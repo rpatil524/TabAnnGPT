{
 "cells": [
  {
   "cell_type": "code",
   "execution_count": null,
   "id": "307f1685",
   "metadata": {},
   "outputs": [],
   "source": [
    "import os\n",
    "import re\n",
    "import pickle\n",
    "import numpy as np\n",
    "from dotenv import dotenv_values\n",
    "from langchain import PromptTemplate, LLMChain, OpenAI\n",
    "from langchain.chat_models import ChatOpenAI"
   ]
  },
  {
   "cell_type": "code",
   "execution_count": null,
   "id": "5ba1a34e",
   "metadata": {},
   "outputs": [],
   "source": [
    "# Load env file with API KEY using full path\n",
    "config = dotenv_values(\"/full/path/to/envfile/key.env\")\n",
    "os.environ['OPENAI_API_KEY'] = config[\"OPENAI_API_KEY\"]"
   ]
  },
  {
   "cell_type": "code",
   "execution_count": null,
   "id": "806f5b40",
   "metadata": {},
   "outputs": [],
   "source": [
    "labels_to_text = {\n",
    "    \"I dont'know\": \"I dont'know\",\n",
    "    \"addressLocality\": \"locality of address\",\n",
    "    \"postalCode\": \"postal code\",\n",
    "    \"addressRegion\": \"region of address\",\n",
    "    \"Country\": \"country\",\n",
    "    \"priceRange\": \"price range\",\n",
    "    \"Hotel/name\": \"name of hotel\",\n",
    "    \"telephone\": \"telephone\",\n",
    "    \"faxNumber\": \"fax number\",\n",
    "    \"Date\": \"date\",\n",
    "    \"Restaurant/name\": \"name of restaurant\",\n",
    "    \"paymentAccepted\": \"payment accepted\",\n",
    "    \"DayOfWeek\": \"day of week\",\n",
    "    \"Review\": \"review\",\n",
    "    \"Organization\": \"organization\",\n",
    "    \"DateTime\": \"date and time\",\n",
    "    \"MusicAlbum/name\": \"name of music album\",\n",
    "    \"MusicArtistAT\": \"music artist\",\n",
    "    \"MusicRecording/name\": \"name of music recording\",\n",
    "    \"Photograph\": \"photograph\",\n",
    "    \"CoordinateAT\": \"coordinate\",\n",
    "    \"Event/name\": \"name of event\",\n",
    "    \"EventAttendanceModeEnumeration\": \"event attendance mode\",\n",
    "    \"EventStatusType\": \"event status\",\n",
    "    \"currency\": \"currency\",\n",
    "    \"email\": \"email\",\n",
    "    \"Time\": \"time\",\n",
    "    \"LocationFeatureSpecification\": \"location feature\",\n",
    "    \"Duration\": \"duration\",\n",
    "    \"Event/description\": \"description of event\",\n",
    "    \"Restaurant/description\": \"description of restaurant\",\n",
    "    \"Rating\": \"rating\",\n",
    "    \"Hotel/description\": \"description of hotel\"\n",
    "}"
   ]
  },
  {
   "cell_type": "code",
   "execution_count": null,
   "id": "e2f6e994",
   "metadata": {},
   "outputs": [],
   "source": [
    "# Dictionary to map ChatGPT answers to label set: synonyms can be added here\n",
    "text_to_label = {\n",
    "    \"locality of address\": \"addressLocality\",\n",
    "    \"postal code\": \"postalCode\",\n",
    "    \"region of address\": \"addressRegion\",\n",
    "    \"country\": \"Country\",\n",
    "    \"price range\": \"priceRange\",\n",
    "    \"name of hotel\": \"Hotel/name\",\n",
    "    \"telephone\": \"telephone\",\n",
    "    \"fax number\": \"faxNumber\",\n",
    "    \"date\": \"Date\",\n",
    "    \"name of restaurant\": \"Restaurant/name\",\n",
    "    \"payment accepted\": \"paymentAccepted\",\n",
    "    \"day of week\": \"DayOfWeek\",\n",
    "    \"review\": \"Review\",\n",
    "    \"organization\": \"Organization\",\n",
    "    \"date and time\": \"DateTime\",\n",
    "    \"music artist\": \"MusicArtistAT\",\n",
    "    \"music album\": \"MusicAlbum/name\",\n",
    "    \"name of music recording\": \"MusicRecording/name\",\n",
    "    \"photograph\": \"Photograph\",\n",
    "    \"coordinate\": \"CoordinateAT\",\n",
    "    \"name of event\": \"Event/name\",\n",
    "    \"event attendance mode\": \"EventAttendanceModeEnumeration\",\n",
    "    \"event status\": \"EventStatusType\",\n",
    "    \"currency\": \"currency\",\n",
    "    \"email\": \"email\",\n",
    "    \"time\": \"Time\",\n",
    "    \"location feature\": \"LocationFeatureSpecification\",\n",
    "    \"duration\": \"Duration\",\n",
    "    \"description of event\": \"Event/description\",\n",
    "    \"description of restaurant\": \"Restaurant/description\",\n",
    "    \"description of hotel\": \"Hotel/description\",\n",
    "    \"rating\": \"Rating\",\n",
    "    #Added\n",
    "    \"description of restaurants\": \"Restaurant/description\",\n",
    "    \"name of music artist\": \"MusicArtistAT\",\n",
    "    \"description of hotel amenities\": \"LocationFeatureSpecification\",\n",
    "    \"amenities\": \"LocationFeatureSpecification\",\n",
    "    \"name of album\": \"MusicAlbum/name\",\n",
    "    \"i don't know\": \"-\",\n",
    "    \"name of music album\": \"MusicAlbum/name\",\n",
    "    \"music recording\": \"MusicRecording/name\",\n",
    "    \"event name\": \"Event/name\",\n",
    "    \"description of hotels\": \"Hotel/description\",\n",
    "    \"name of hotels\": \"Hotel/name\",\n",
    "    \"duration of music recording or video\": \"Duration\",\n",
    "    \"name of organization\": \"Organization\",\n",
    "    \"hotel amenities\": \"LocationFeatureSpecification\",\n",
    "    \"amenities of hotel room\": \"LocationFeatureSpecification\",\n",
    "    \"check-in time\": \"Time\",\n",
    "    \"check-out time\": \"Time\",\n",
    "    \"time of check-in\": \"Time\",\n",
    "    \"time of check-out\": \"Time\",\n",
    "    \"hotel features\": \"LocationFeatureSpecification\",\n",
    "    \"name of aparthotel\": \"Hotel/name\",\n",
    "    \"event description\": \"Event/description\",\n",
    "    \"email address\": \"email\",\n",
    "    \"room amenities\": \"LocationFeatureSpecification\",\n",
    "    \"end date\": \"Date\",\n",
    "    \"descriptions of events\": \"Event/description\",\n",
    "    \"mode of attendance\": \"EventAttendanceModeEnumeration\",\n",
    "    \"name of song\": \"MusicRecording/name\"\n",
    "}"
   ]
  },
  {
   "cell_type": "markdown",
   "id": "c1b93f4d",
   "metadata": {},
   "source": [
    "## Load test set"
   ]
  },
  {
   "cell_type": "code",
   "execution_count": null,
   "id": "80cd0f30",
   "metadata": {},
   "outputs": [],
   "source": [
    "with open('data/cta-test-column-wise.pkl', \"rb\") as f:\n",
    "    test = pickle.load(f)\n",
    "\n",
    "examples = [example[3] for example in test ]\n",
    "labels = [example[2] for example in test ]"
   ]
  },
  {
   "cell_type": "code",
   "execution_count": null,
   "id": "e5235a7e",
   "metadata": {},
   "outputs": [],
   "source": [
    "labels[:10]"
   ]
  },
  {
   "cell_type": "markdown",
   "id": "b33eeece",
   "metadata": {},
   "source": [
    "## Choose prompt template: without or with instructions"
   ]
  },
  {
   "cell_type": "code",
   "execution_count": null,
   "id": "69280f83",
   "metadata": {},
   "outputs": [],
   "source": [
    "# Paper name: text\n",
    "template = \"\"\"\n",
    "\n",
    "Answer the question based on the task below. If the question cannot be answered using the information provided answer with \"I don't know\".\n",
    "\n",
    "Task: Classify the text given with only one of the following classes that are separated with comma: description of event, description of restaurant, locality of address, postal code, region of address, country, price range, telephone, date, name of restaurant, payment accepted, day of week, review, organization, date and time, coordinate, name of event, event attendance mode, event status, currency, time, description of hotel, name of hotel, location feature, rating, fax number, email, photograph, name of music recording, music artist, name of album, duration.\n",
    "\n",
    "Text: {input}\n",
    "\n",
    "Class:\n",
    "\n",
    "\"\"\""
   ]
  },
  {
   "cell_type": "code",
   "execution_count": null,
   "id": "27bc61f6",
   "metadata": {},
   "outputs": [],
   "source": [
    "# Paper name: column + instructions\n",
    "template = \"\"\"\n",
    "\n",
    "Answer the question based on the task and instructions below. If the question cannot be answered using the information provided answer with \"I don't know\".\n",
    "\n",
    "Task: Classify the text given with only one of the following classes that are separated with comma: description of event, description of restaurant, locality of address, postal code, region of address, country, price range, telephone, date, name of restaurant, payment accepted, day of week, review, organization, date and time, coordinate, name of event, event attendance mode, event status, currency, time, description of hotel, name of hotel, location feature, rating, fax number, email, photograph, name of music recording, music artist, name of album, duration.\n",
    "\n",
    "Instructions: 1. Look at the text and the classes given to you. 2. Examine the values of the text. 3. Select a class that best represents the meaning of the text. 4. Answer with the selected class.\n",
    "\n",
    "Text: {input}\n",
    "\n",
    "Class:\n",
    "\n",
    "\"\"\""
   ]
  },
  {
   "cell_type": "markdown",
   "id": "19177971",
   "metadata": {},
   "source": [
    "## Load LLM and run model"
   ]
  },
  {
   "cell_type": "code",
   "execution_count": null,
   "id": "9940af79",
   "metadata": {
    "scrolled": true
   },
   "outputs": [],
   "source": [
    "gpt_3_turbo = ChatOpenAI(model_name='gpt-3.5-turbo-0301', temperature=0)\n",
    "prompt = PromptTemplate(template=template, input_variables=['input'])\n",
    "llm_chain = LLMChain(prompt=prompt, llm=gpt_3_turbo)\n",
    "\n",
    "#Zero-shot prediction\n",
    "preds = [llm_chain.run({'input': example}) for example in examples ]"
   ]
  },
  {
   "cell_type": "code",
   "execution_count": null,
   "id": "21b93a31",
   "metadata": {
    "scrolled": true
   },
   "outputs": [],
   "source": [
    "preds[:10]"
   ]
  },
  {
   "cell_type": "code",
   "execution_count": null,
   "id": "a5f9a001",
   "metadata": {},
   "outputs": [],
   "source": [
    "#Save predictions in a file:\n",
    "file_name='predictions/prompt-text-without-instructions.pkl'\n",
    "f = open(file_name,'wb')\n",
    "pickle.dump(preds,f)\n",
    "f.close()"
   ]
  },
  {
   "cell_type": "markdown",
   "id": "6ab6cab8",
   "metadata": {},
   "source": [
    "## Evaluation"
   ]
  },
  {
   "cell_type": "code",
   "execution_count": null,
   "id": "d4418e22",
   "metadata": {},
   "outputs": [],
   "source": [
    "# Map answers to label set with dictionary\n",
    "# Answers out of label space are printed: If a synonym is found in the answers it can be added to the dictionary\n",
    "predictions = []\n",
    "for i, pred in enumerate(preds):\n",
    "    if '(' in pred:\n",
    "        pred = pred.split(\"(\")[0].strip()\n",
    "    if '.' in pred:\n",
    "        pred = pred.split(\".\")[0].strip()\n",
    "    pred = pred.strip().lower()\n",
    "    if pred in text_to_label:\n",
    "        predictions.append(text_to_label[pred])\n",
    "    else:\n",
    "        print(f\"For test example {i} out of label space prediction: {pred}\")\n",
    "        predictions.append('-')"
   ]
  },
  {
   "cell_type": "markdown",
   "id": "7ab2350d",
   "metadata": {},
   "source": [
    "### Calculate Precision, Recall, Macro-F1 and Micro-F1"
   ]
  },
  {
   "cell_type": "code",
   "execution_count": null,
   "id": "e1a1bf30",
   "metadata": {},
   "outputs": [],
   "source": [
    "def calculate_f1_scores(y_tests, y_preds, num_classes):\n",
    "    \n",
    "    y_tests = [types.index(y) for y in y_tests]\n",
    "    y_preds = [types.index(y) for y in y_preds]\n",
    "    \n",
    "    #Confusion matrix\n",
    "    cm = np.zeros(shape=(num_classes,num_classes))\n",
    "    \n",
    "    for i in range(len(y_tests)):\n",
    "        cm[y_preds[i]][y_tests[i]] += 1\n",
    "        \n",
    "    report = {}\n",
    "    \n",
    "    for j in range(len(cm[0])):\n",
    "        report[j] = {}\n",
    "        report[j]['FN'] = 0\n",
    "        report[j]['FP'] = 0\n",
    "        report[j]['TP'] = cm[j][j]\n",
    "\n",
    "        for i in range(len(cm)):\n",
    "            if i != j:\n",
    "                report[j]['FN'] += cm[i][j]\n",
    "        for k in range(len(cm[0])):\n",
    "            if k != j:\n",
    "                report[j]['FP'] += cm[j][k]\n",
    "\n",
    "        precision = report[j]['TP'] / (report[j]['TP'] + report[j]['FP'])\n",
    "        recall = report[j]['TP'] / (report[j]['TP'] + report[j]['FN'])\n",
    "        f1 = 2*precision*recall / (precision + recall)\n",
    "        \n",
    "        if np.isnan(f1):\n",
    "            f1 = 0\n",
    "        if np.isnan(precision):\n",
    "            f1 = 0\n",
    "        if np.isnan(recall):\n",
    "            f1 = 0\n",
    "\n",
    "        report[j]['p'] =  precision\n",
    "        report[j]['r'] =  recall\n",
    "        report[j]['f1'] = f1\n",
    "    \n",
    "    all_fn = 0\n",
    "    all_tp = 0\n",
    "    all_fp = 0\n",
    "\n",
    "    for r in report:\n",
    "        if r != num_classes-1:\n",
    "            all_fn += report[r]['FN']\n",
    "            all_tp += report[r]['TP']\n",
    "            all_fp += report[r]['FP']\n",
    "        \n",
    "    class_f1s = [ report[class_]['f1'] for class_ in report]\n",
    "    class_p = [ 0 if np.isnan(report[class_]['p']) else report[class_]['p'] for class_ in report]\n",
    "    class_r = [ 0 if np.isnan(report[class_]['r']) else report[class_]['r'] for class_ in report]\n",
    "    macro_f1 = sum(class_f1s[:-1]) / (num_classes-1)\n",
    "    \n",
    "    p =  sum(class_p[:-1]) / (num_classes-1)\n",
    "    r =  sum(class_r[:-1]) / (num_classes-1)\n",
    "    micro_f1 = all_tp / ( all_tp + (1/2 * (all_fp + all_fn) )) \n",
    "    \n",
    "    per_class_eval = {}\n",
    "    for index, t in enumerate(types[:-1]):\n",
    "        per_class_eval[t] = {\"Precision\":class_p[index], \"Recall\": class_r[index], \"F1\": class_f1s[index]}\n",
    "    \n",
    "    evaluation = {\n",
    "        \"Micro-F1\": micro_f1,\n",
    "        \"Macro-F1\": macro_f1,\n",
    "        \"Precision\": p,\n",
    "        \"Recall\": r\n",
    "    }\n",
    "    \n",
    "    return [ evaluation, per_class_eval]"
   ]
  },
  {
   "cell_type": "code",
   "execution_count": null,
   "id": "b1770b52",
   "metadata": {
    "scrolled": true
   },
   "outputs": [],
   "source": [
    "types = list(set(labels))\n",
    "types = types + [\"-\"]\n",
    "evaluation, per_class_eval = calculate_f1_scores(labels, predictions, 33)"
   ]
  },
  {
   "cell_type": "code",
   "execution_count": null,
   "id": "5539f223",
   "metadata": {},
   "outputs": [],
   "source": [
    "evaluation"
   ]
  },
  {
   "cell_type": "code",
   "execution_count": null,
   "id": "bd2d9fb0",
   "metadata": {
    "scrolled": true
   },
   "outputs": [],
   "source": [
    "per_class_eval"
   ]
  },
  {
   "cell_type": "markdown",
   "id": "0a4ba678",
   "metadata": {},
   "source": [
    "## Error Analysis"
   ]
  },
  {
   "cell_type": "code",
   "execution_count": null,
   "id": "af914f99",
   "metadata": {},
   "outputs": [],
   "source": [
    "# \"-\" means the model replied with out of label or with I don't know\n",
    "errors = 0\n",
    "for i in range(len(predictions)):\n",
    "    if predictions[i] != labels[i]:\n",
    "        errors += 1\n",
    "        print(f\"Predicted as {predictions[i]} when it was {labels[i]}\")\n",
    "errors"
   ]
  },
  {
   "cell_type": "markdown",
   "id": "d8d9ec72",
   "metadata": {},
   "source": [
    "### Re-load previous preds files"
   ]
  },
  {
   "cell_type": "code",
   "execution_count": null,
   "id": "48378ee6",
   "metadata": {},
   "outputs": [],
   "source": [
    "with open('predictions/prompt-text-without-instructions.pkl', \"rb\") as f:\n",
    "    preds = pickle.load(f)"
   ]
  },
  {
   "cell_type": "code",
   "execution_count": null,
   "id": "3f4fef6b",
   "metadata": {},
   "outputs": [],
   "source": []
  }
 ],
 "metadata": {
  "kernelspec": {
   "display_name": "Python 3 (ipykernel)",
   "language": "python",
   "name": "python3"
  },
  "language_info": {
   "codemirror_mode": {
    "name": "ipython",
    "version": 3
   },
   "file_extension": ".py",
   "mimetype": "text/x-python",
   "name": "python",
   "nbconvert_exporter": "python",
   "pygments_lexer": "ipython3",
   "version": "3.10.9"
  }
 },
 "nbformat": 4,
 "nbformat_minor": 5
}
